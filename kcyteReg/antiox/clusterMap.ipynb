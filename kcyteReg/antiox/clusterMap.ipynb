{
 "cells": [
  {
   "cell_type": "code",
   "execution_count": 1,
   "metadata": {},
   "outputs": [],
   "source": [
    "from __future__ import division\n",
    "from __future__ import print_function\n",
    "\n",
    "import numpy as np\n",
    "import pandas as pd\n",
    "import scipy as sp \n",
    "import sys\n",
    "import os\n",
    "from collections import OrderedDict\n",
    "import argparse\n",
    "from scipy.spatial.distance import pdist\n",
    "import scipy.cluster.hierarchy as sch\n",
    "from scipy.spatial.distance import  squareform\n",
    "from scipy.stats import percentileofscore\n",
    "\n",
    "sys.path.insert(0 , \"../codes\")\n",
    "from IOutils import loadCellData, readListFromFile\n",
    "import clusterByMeanExpr as clFuncs \n",
    "\n",
    "import matplotlib.pyplot as plt\n",
    "import matplotlib as mpl\n",
    "mpl.rcParams[\"pdf.fonttype\"] = 42\n",
    "%matplotlib inline \n",
    "plt.rcParams[\"axes.labelsize\"] = \"x-large\"\n",
    "plt.rcParams[\"xtick.labelsize\"] =  \"large\"\n",
    "plt.rcParams[\"ytick.labelsize\"] =  \"large\"\n",
    "plt.rcParams[\"legend.fontsize\"] = \"x-large\""
   ]
  },
  {
   "cell_type": "code",
   "execution_count": 2,
   "metadata": {},
   "outputs": [],
   "source": [
    "#############################################\n",
    "## FUNCTION DEFINITIONS\n",
    "def clusterDict_from_dendrogram( Z_dendro, observations ):\n",
    "    \"\"\"\n",
    "    Input:\n",
    "        Z_dendro - output of scipy.cluster.hierarchy.dendrogram. A dictionary with keys - \n",
    "                    'color_list' , 'icoord', 'dcoord', 'leaves'\n",
    "        observations - Labels of rows/ columns of distance matrix used for clustering\n",
    "    Returns\n",
    "        clustLabelDict - Keys are cluster colors , values are list of observations\n",
    "                        belonging to cluster\n",
    "    \"\"\"\n",
    "    clustID_leafXlabels = []\n",
    "    for color, Icoord , Dcoord in zip(  Z_dendro['color_list'],   Z_dendro[\"icoord\"],  Z_dendro[\"dcoord\"]) :\n",
    "        if Dcoord[0] ==0.0:\n",
    "            clustID_leafXlabels.append(( color , Icoord[0]   )  )\n",
    "        if Dcoord[-1] ==0.0:\n",
    "            clustID_leafXlabels.append(( color , Icoord[-1]  ) )\n",
    "\n",
    "    clustID_leafXlabels =  sorted( clustID_leafXlabels , key = lambda x: x[1] )\n",
    "    clusterLabels = set( [ elem[0] for elem in  clustID_leafXlabels  ] )\n",
    "    observations_ordered = list(np.array(observations)[Z_dendro['leaves']] )                                       \n",
    "    clustLabelDict =  { clustLabel : \n",
    "                       [ observations_ordered[i]  for i , elem in enumerate( clustID_leafXlabels ) if elem[0] == clustLabel]  \\\n",
    "                       for clustLabel in  clusterLabels  }\n",
    "    return  clustLabelDict\n",
    "\n",
    "def getNull_maxSize( exprByStage_means , nClusts = 3 , nPerms =  500,\n",
    "                               linkageMethod = \"complete\"):\n",
    "    \"\"\" \n",
    "    Inputs:\n",
    "        exprByStage_means  -Dataframe ,Each row is a gene,  each column is an observation (stage)\n",
    "        ...\n",
    "    Returns:\n",
    "        nullDistrib - (nPerms , nCust) each row are cluster sizes of one simulation\n",
    "                        sorted from largest to smallest\n",
    "    \"\"\"\n",
    "    \n",
    "    def get_maxClustSize(toCluster , nClusts= 3, linkageMethod = \"complete\"):\n",
    "        \"\"\" \n",
    "        toCluster - array, rows are observations columns are variables\n",
    "        \"\"\"\n",
    "        #dists = pdist( toCluster , metric = \"correlation\"  )\n",
    "        #Y = sch.linkage(dists ,linkageMethod )\n",
    "        #fclust = sch.fcluster( Y , nClusts , criterion = 'maxclust' )\n",
    "        dists = 1.0 - np.corrcoef(toCluster , rowvar = True )\n",
    "        ## symmetrize\n",
    "        dists =  dists/2.0 + dists.transpose()/2.0\n",
    "        dists[np.diag_indices(dists.shape[0])] = 0.0 \n",
    "        Y = sch.linkage(squareform(dists), method= linkageMethod)\n",
    "        fclust = sch.fcluster( Y , nClusts , criterion = 'maxclust' )\n",
    "        unique , counts = np.unique(fclust ,return_counts= True)\n",
    "        \n",
    "        assert( len(unique) == nClusts  )\n",
    "        rVal = sorted(counts, reverse= True)\n",
    "        return rVal \n",
    "    \n",
    "    nullDistrib = np.zeros((nPerms , nClusts) , dtype = int )\n",
    "    exprByStage_means_values = np.copy(exprByStage_means.values)\n",
    "    for permIdx in range(nPerms):\n",
    "        for i in range( exprByStage_means_values.shape[0]):\n",
    "            np.random.shuffle(exprByStage_means_values[ i, : ] )\n",
    "        nullDistrib[permIdx , :] = get_maxClustSize(toCluster = exprByStage_means_values,\n",
    "                                              nClusts= nClusts, linkageMethod = linkageMethod)\n",
    "    return nullDistrib"
   ]
  },
  {
   "cell_type": "code",
   "execution_count": 3,
   "metadata": {},
   "outputs": [],
   "source": [
    "#### Parse command-line ####################################################################################\n",
    "parser = argparse.ArgumentParser(description='Cluster gene set by correlation in mean expression across modules')\n",
    "parser.add_argument(\"--exprTable\" )\n",
    "parser.add_argument(\"--cells_allowed\")\n",
    "parser.add_argument( \"--stageLabels\" )\n",
    "parser.add_argument(\"--stagesAllowed\" , help=\"comma separated list of ints\")\n",
    "parser.add_argument(\"--fi_genes\", default = \"\" , help =  \"file listing gene names(1 per line). If comma sep list take union\")\n",
    "parser.add_argument(\"--minExpr\" , type = float)\n",
    "parser.add_argument('--minLog2FC', type = float ,\n",
    "                    help= \"Minimum magnitude of log2FC (between 2 stages) for gene to be considered in anaylsis\")\n",
    "parser.add_argument('--linkage' , default = \"complete\" )\n",
    "parser.add_argument('--outDir' )\n",
    "\n",
    "exampleInput = \"--exprTable ../impute/magic_counts_t4_cells.foreskin_genesGeq1Pct.kcyte.pkl \\\n",
    "--cells_allowed ../exprCorr/cellNames.passFilter.txt \\\n",
    "--stageLabels ../clusterCells/kasp.ka10.k30_impute.t10_gene.geq5UMIgeq100Cell.all.csv \\\n",
    "--fi_genes  ../raw/amigo2_antiOxidant-genesAndGeneProducts.symb.converted.Geq1percent.txt \\\n",
    "--stagesAllowed 1,2,3,4,5,6,7 \\\n",
    "--minExpr 0.05 \\\n",
    "--minLog2FC 1.0 \\\n",
    "--linkage average \\\n",
    "--outDir .\"\n",
    "\n",
    "args = parser.parse_args(exampleInput.split())\n",
    "stagesAllowed = [int(x) for x in args.stagesAllowed.split(\",\")]"
   ]
  },
  {
   "cell_type": "code",
   "execution_count": 4,
   "metadata": {},
   "outputs": [
    {
     "name": "stdout",
     "output_type": "stream",
     "text": [
      "loading Files\n",
      "\tloading file ../impute/magic_counts_t4_cells.foreskin_genesGeq1Pct.kcyte.pkl\n",
      "\tloading file ../clusterCells/kasp.ka10.k30_impute.t10_gene.geq5UMIgeq100Cell.all.csv\n",
      "Summary of Join:\n",
      "\texpr : 22338 of 22338 in join\n",
      "\tpcComps : 22338 of 22338 in join\n"
     ]
    }
   ],
   "source": [
    "############################################################################################\n",
    "#### LOAD DATA \n",
    "exprDF = loadCellData( fnameDict = OrderedDict([ (\"expr\", args.exprTable ) , (\"pcComps\" , args.stageLabels)] ) )\n",
    "geneNames = readListFromFile(args.fi_genes)\n",
    "cells_pass = readListFromFile(args.cells_allowed)\n",
    "exprDF = exprDF.loc[cells_pass, :].copy()"
   ]
  },
  {
   "cell_type": "code",
   "execution_count": 5,
   "metadata": {},
   "outputs": [
    {
     "name": "stdout",
     "output_type": "stream",
     "text": [
      "Filtering genes list to those with magnituded logFC geq 1.0 (enforcing min expression 0.05 in LFCcalc)\n",
      "32 of 65 gene candidiates remain after LFC filter\n"
     ]
    }
   ],
   "source": [
    "#########################################################################################################\n",
    "### PREPROCESS\n",
    "## Stagewise mean\n",
    "meanExpr = exprDF[\"expr\"].groupby( by = exprDF[\"rowData\"].loc[: , \"clust_ID\"] ).apply(lambda x: x.mean(axis = 0))\n",
    "meanExpr = meanExpr.loc[stagesAllowed, geneNames].copy()\n",
    "\n",
    "## filter by log2FC\n",
    "if args.minLog2FC is not None:\n",
    "    if args.minExpr is not None:\n",
    "        print(\"Filtering genes list to those with magnituded logFC geq {} (enforcing min expression {} in LFCcalc)\".format(args.minLog2FC, args.minExpr)  )\n",
    "        lfcMaxMin = meanExpr.apply( lambda x: np.log2(x.max()/ max(x.min(), args.minExpr ) ) , axis = 0)\n",
    "    else:\n",
    "        print(\"Filtering genes list to those with magnituded logFC geq {}\".format(args.minLog2FC )  )\n",
    "        lfcMaxMin = meanExpr.apply( lambda x: np.log2(x.max()/ x.min()) , axis = 0) \n",
    "    mask =  lfcMaxMin < args.minLog2FC\n",
    "    meanExpr = meanExpr.loc[: , ~mask].copy()\n",
    "    print(\"{} of {} gene candidiates remain after LFC filter\".format(meanExpr.shape[1] , len(geneNames)))\n",
    "    \n",
    "## Convert to z-score of logTPM of stagewise means\n",
    "meanExpr = np.log10(meanExpr*100.0 + 1.0)\n",
    "plotData = ((meanExpr.subtract(meanExpr.mean(axis = 0), axis =1)).divide( meanExpr.std(axis = 0) , axis =1 )).transpose()"
   ]
  },
  {
   "cell_type": "code",
   "execution_count": 6,
   "metadata": {},
   "outputs": [
    {
     "data": {
      "image/png": "[encoded data removed]",
      "text/plain": [
       "<matplotlib.figure.Figure at 0x7f2173516898>"
      ]
     },
     "metadata": {},
     "output_type": "display_data"
    }
   ],
   "source": [
    "#########################################################################################################\n",
    "### Cluster\n",
    "dists = pdist( plotData.values.copy(), metric = \"correlation\"  )\n",
    "linkageMat = sch.linkage(dists , method= args.linkage)\n",
    "\n",
    "cbarLabel = 'z-score $\\log_{10}$(mean cpm + 1)'\n",
    "\n",
    "if type(plotData.columns[0]) is np.int64:\n",
    "    plotData.rename(columns = {i : \"stage {:d}\".format(i) for i in plotData.columns} , inplace = True)\n",
    "\n",
    "#linkageMat[-1, [0,1]] = linkageMat[-1, [1,0]] ## put magenta cluster 1st from left to right in dendrogram\n",
    "fig , Z = clFuncs.clusterHmap(data =plotData.copy() , linkageMat= linkageMat , \n",
    "                cmap = plt.cm.bwr,\n",
    "                cbarLabel =  cbarLabel , \n",
    "                xtickLabelFontsize = 11 ,\n",
    "                ytickLabelFontsize = 18 , grid_lw=2 ,\n",
    "               cbarLabelSize = 18, cbarTickLabelSize = 14 , color_threshold = 0.68  ,\n",
    "               figsize=(8, 5), colorMinMaxPct = None, dendroColorPalette  = [\"m\" , \"orange\", 'g'] )\n",
    "\n",
    "exprClusts_dict = clusterDict_from_dendrogram( Z_dendro = Z, observations  = list(plotData.index))\n",
    "\n",
    "os.makedirs(args.outDir ,exist_ok = True )\n",
    "fig.savefig(os.path.join(args.outDir , \"clustMap.pdf\"), bbox_inches = \"tight\" , format =\"pdf\" )\n",
    "for k ,v in exprClusts_dict.items():\n",
    "    f = open(os.path.join(args.outDir ,  k + \"_genes.txt\" ) , 'w' )\n",
    "    for x in v:\n",
    "        f.write(x + \"\\n\")\n",
    "    f.close()"
   ]
  },
  {
   "cell_type": "code",
   "execution_count": 8,
   "metadata": {},
   "outputs": [
    {
     "name": "stdout",
     "output_type": "stream",
     "text": [
      "p value of size 20 in null distribution is 8.5000e-04\n"
     ]
    }
   ],
   "source": [
    "## Get mageta cluster size enrichment p-value\n",
    "null = getNull_maxSize( exprByStage_means = plotData.copy(), nClusts = 4 , nPerms =  100000,\n",
    "                               linkageMethod = args.linkage)\n",
    "\n",
    "m_size = len(exprClusts_dict[\"m\"])\n",
    "p = 1.0 - percentileofscore(null[:, 0] , 22 )/100.0\n",
    "print(\"p value of size {} in null distribution is {:.4e}\".format(m_size, p))\n",
    "f = open(os.path.join(args.outDir, \"pVal.txt\") , 'w')\n",
    "f.write(\"p={:.3e}\\n\".format(p))\n",
    "f.close()"
   ]
  },
  {
   "cell_type": "code",
   "execution_count": null,
   "metadata": {},
   "outputs": [],
   "source": []
  }
 ],
 "metadata": {
  "kernelspec": {
   "display_name": "Python 3",
   "language": "python",
   "name": "python3"
  },
  "language_info": {
   "codemirror_mode": {
    "name": "ipython",
    "version": 3
   },
   "file_extension": ".py",
   "mimetype": "text/x-python",
   "name": "python",
   "nbconvert_exporter": "python",
   "pygments_lexer": "ipython3",
   "version": "3.6.4"
  }
 },
 "nbformat": 4,
 "nbformat_minor": 2
}
